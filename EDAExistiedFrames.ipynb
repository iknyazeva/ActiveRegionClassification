{
 "cells": [
  {
   "cell_type": "code",
   "execution_count": 197,
   "metadata": {},
   "outputs": [],
   "source": [
    "import numpy as np \n",
    "from tqdm import tqdm\n",
    "import os\n",
    "import glob\n",
    "import pandas as pd \n",
    "import time\n",
    "import datetime\n",
    "import matplotlib.pyplot as plt\n",
    "from sunpy.coordinates import frames\n",
    "from astropy.io import fits\n",
    "import warnings\n",
    "warnings.filterwarnings(\"ignore\")\n",
    "import re\n",
    "from skimage.transform import resize\n",
    "import seaborn as sns\n",
    "%matplotlib inline"
   ]
  },
  {
   "cell_type": "code",
   "execution_count": 2,
   "metadata": {},
   "outputs": [
    {
     "data": {
      "text/html": [
       "<div>\n",
       "<style scoped>\n",
       "    .dataframe tbody tr th:only-of-type {\n",
       "        vertical-align: middle;\n",
       "    }\n",
       "\n",
       "    .dataframe tbody tr th {\n",
       "        vertical-align: top;\n",
       "    }\n",
       "\n",
       "    .dataframe thead th {\n",
       "        text-align: right;\n",
       "    }\n",
       "</style>\n",
       "<table border=\"1\" class=\"dataframe\">\n",
       "  <thead>\n",
       "    <tr style=\"text-align: right;\">\n",
       "      <th></th>\n",
       "      <th></th>\n",
       "      <th>number_of_ss</th>\n",
       "      <th>size</th>\n",
       "      <th>class</th>\n",
       "      <th>location</th>\n",
       "      <th>magn_class</th>\n",
       "    </tr>\n",
       "    <tr>\n",
       "      <th>date</th>\n",
       "      <th>region</th>\n",
       "      <th></th>\n",
       "      <th></th>\n",
       "      <th></th>\n",
       "      <th></th>\n",
       "      <th></th>\n",
       "    </tr>\n",
       "  </thead>\n",
       "  <tbody>\n",
       "    <tr>\n",
       "      <th>1996-06-04</th>\n",
       "      <th>7968</th>\n",
       "      <td>3</td>\n",
       "      <td>0</td>\n",
       "      <td>AXX</td>\n",
       "      <td>N02E41</td>\n",
       "      <td>A</td>\n",
       "    </tr>\n",
       "    <tr>\n",
       "      <th rowspan=\"2\" valign=\"top\">1996-06-05</th>\n",
       "      <th>7968</th>\n",
       "      <td>2</td>\n",
       "      <td>10</td>\n",
       "      <td>BXO</td>\n",
       "      <td>N02E28</td>\n",
       "      <td>B</td>\n",
       "    </tr>\n",
       "    <tr>\n",
       "      <th>7969</th>\n",
       "      <td>1</td>\n",
       "      <td>0</td>\n",
       "      <td>AXX</td>\n",
       "      <td>N09W33</td>\n",
       "      <td>A</td>\n",
       "    </tr>\n",
       "    <tr>\n",
       "      <th rowspan=\"2\" valign=\"top\">1996-06-06</th>\n",
       "      <th>7968</th>\n",
       "      <td>4</td>\n",
       "      <td>20</td>\n",
       "      <td>CRO</td>\n",
       "      <td>N03E12</td>\n",
       "      <td>B</td>\n",
       "    </tr>\n",
       "    <tr>\n",
       "      <th>7969</th>\n",
       "      <td>4</td>\n",
       "      <td>10</td>\n",
       "      <td>BXO</td>\n",
       "      <td>N08W44</td>\n",
       "      <td>B</td>\n",
       "    </tr>\n",
       "  </tbody>\n",
       "</table>\n",
       "</div>"
      ],
      "text/plain": [
       "                  number_of_ss size class location magn_class\n",
       "date       region                                            \n",
       "1996-06-04 7968              3    0   AXX   N02E41          A\n",
       "1996-06-05 7968              2   10   BXO   N02E28          B\n",
       "           7969              1    0   AXX   N09W33          A\n",
       "1996-06-06 7968              4   20   CRO   N03E12          B\n",
       "           7969              4   10   BXO   N08W44          B"
      ]
     },
     "execution_count": 2,
     "metadata": {},
     "output_type": "execute_result"
    }
   ],
   "source": [
    "sunspots = pd.read_pickle('sunspot_1996_2017.pkl')\n",
    "sunspots.head()"
   ]
  },
  {
   "cell_type": "code",
   "execution_count": 19,
   "metadata": {},
   "outputs": [],
   "source": [
    "def show_fits(filepath):\n",
    "    #Потом из директории загружаем и делаем, что хотим\n",
    "    hdulist = fits.open(filepath)\n",
    "    fits_data =  hdulist[0].data\n",
    "    #fits_data = np.sign(fits_data)*np.log1p(np.abs(fits_data))\n",
    "    plt.imshow(fits_data,cmap = plt.get_cmap('gray')); plt.title(filepath)\n",
    "    return fits_data\n",
    "def crop_center(img,cropx,cropy):\n",
    "    y,x = img.shape\n",
    "    startx = x//2-(cropx//2)\n",
    "    starty = y//2-(cropy//2)    \n",
    "    return img[starty:starty+cropy,startx:startx+cropx]"
   ]
  },
  {
   "cell_type": "code",
   "execution_count": 78,
   "metadata": {},
   "outputs": [],
   "source": [
    "def rewrite_mdi(filepath, path_to_write):\n",
    "    \"\"\"\n",
    "    take mdi file, and crop center with size 125x100, what corresponds hmi 500x400\n",
    "    \n",
    "    \"\"\"\n",
    "    filename = 'r'+str.split(filepath,'/')[-1]\n",
    "    if not os.path.exists(os.path.join(path_to_write,filename)):\n",
    "\n",
    "        hdulist = fits.open(filepath)\n",
    "        fits_data =  hdulist[0].data\n",
    "        fits_data = crop_center(fits_data,125,100)\n",
    "        if ~np.isnan(fits_data).all():\n",
    "            print('Write ',filename,'...')\n",
    "            hdu = fits.PrimaryHDU(fits_data)\n",
    "            hdul = fits.HDUList([hdu])\n",
    "            hdul.writeto(os.path.join(path_to_write,filename))\n",
    "def rewrite_hmi(filepath, path_to_write):\n",
    "    \"\"\"\n",
    "    take hmi file, and save it with resolution 125x100\n",
    "    \n",
    "    \"\"\"\n",
    "    filename = 'r'+str.split(filepath,'/')[-1]\n",
    "    if not os.path.exists(os.path.join(path_to_write,filename)):\n",
    "        hdulist = fits.open(filepath)\n",
    "        fits_data =  hdulist[0].data\n",
    "        fits_data = resize(fits_data,(100,125))\n",
    "        if ~np.isnan(fits_data).all():\n",
    "            print('Write ',filename,'...')\n",
    "\n",
    "            hdu = fits.PrimaryHDU(fits_data)\n",
    "            hdul = fits.HDUList([hdu])\n",
    "        \n",
    "            hdul.writeto(os.path.join(path_to_write,filename))\n"
   ]
  },
  {
   "cell_type": "code",
   "execution_count": 75,
   "metadata": {},
   "outputs": [],
   "source": [
    "dataPath = '/Users/Irisha1/Google Drive/_SolarData/!SOHO_MDI'"
   ]
  },
  {
   "cell_type": "code",
   "execution_count": 76,
   "metadata": {},
   "outputs": [],
   "source": [
    "hmiFiles = glob.glob(os.path.join(dataPath,\"HMIfragments/*.fits\"))\n",
    "mdiFiles = glob.glob(os.path.join(dataPath,\"MDIfragments/*.fits\"))"
   ]
  },
  {
   "cell_type": "code",
   "execution_count": 81,
   "metadata": {},
   "outputs": [],
   "source": [
    "path_to_write = '/Users/Irisha1/Google Drive/_SolarData/!SOHO_MDI/Allrescaled'\n",
    "filename = 'r'+str.split(hmiFiles[0],'/')[-1]\n",
    "#os.path.exists(os.path.join(path_to_write,filename))\n",
    "#for file in hmiFiles:\n",
    "#    rewrite_hmi(file, path_to_write)\n",
    "#for file in mdiFiles:\n",
    "#    rewrite_mdi(file, path_to_write)"
   ]
  },
  {
   "cell_type": "code",
   "execution_count": 178,
   "metadata": {},
   "outputs": [
    {
     "data": {
      "image/png": "[encoded data removed]",
      "text/plain": [
       "<Figure size 432x288 with 1 Axes>"
      ]
     },
     "metadata": {},
     "output_type": "display_data"
    }
   ],
   "source": [
    "allFiles = glob.glob(os.path.join(path_to_write,\"*.fits\"))\n",
    "rdata = show_fits(allFiles[0])"
   ]
  },
  {
   "cell_type": "code",
   "execution_count": 179,
   "metadata": {},
   "outputs": [],
   "source": [
    "def compute_max_min(filepath):\n",
    "    hdulist = fits.open(filepath)\n",
    "    fits_data =  hdulist[0].data\n",
    "    return np.max(fits_data), np.min(fits_data) \n",
    "def extract_date_ar(filepath, type_='hmi'):\n",
    "    info_str = str.split(filepath,'/')[-1]\n",
    "    info_str = str.split(info_str,'.')\n",
    "    max_, min_= compute_max_min(filepath)\n",
    "    return [pd.to_datetime(info_str[1], format='%Y-%m-%d_%H%M%S'), int(info_str[2][2:]), info_str[0][1:], max_,min_]\n",
    "def constr_filename(date,region, instr_type):\n",
    "    return 'r'+str(instr_type)+'.'+date.strftime('%Y-%m-%d_%H%M%S')+'.AR'+str(region)+'.fits'"
   ]
  },
  {
   "cell_type": "code",
   "execution_count": 180,
   "metadata": {},
   "outputs": [
    {
     "name": "stderr",
     "output_type": "stream",
     "text": [
      "100%|██████████| 19565/19565 [02:33<00:00, 127.79it/s]\n"
     ]
    }
   ],
   "source": [
    "all_list = [] \n",
    "for filename in tqdm(allFiles):\n",
    "    all_list.append(extract_date_ar(filename))"
   ]
  },
  {
   "cell_type": "code",
   "execution_count": 182,
   "metadata": {},
   "outputs": [],
   "source": [
    "df = pd.DataFrame(all_list, columns  = ['date','region','instr_type','max','min'])\n",
    "df.set_index(['date','region'], inplace=True)\n",
    "df.sort_values(by = 'date', inplace=True)"
   ]
  },
  {
   "cell_type": "code",
   "execution_count": 183,
   "metadata": {},
   "outputs": [
    {
     "data": {
      "text/html": [
       "<div>\n",
       "<style scoped>\n",
       "    .dataframe tbody tr th:only-of-type {\n",
       "        vertical-align: middle;\n",
       "    }\n",
       "\n",
       "    .dataframe tbody tr th {\n",
       "        vertical-align: top;\n",
       "    }\n",
       "\n",
       "    .dataframe thead th {\n",
       "        text-align: right;\n",
       "    }\n",
       "</style>\n",
       "<table border=\"1\" class=\"dataframe\">\n",
       "  <thead>\n",
       "    <tr style=\"text-align: right;\">\n",
       "      <th></th>\n",
       "      <th></th>\n",
       "      <th>instr_type</th>\n",
       "      <th>max</th>\n",
       "      <th>min</th>\n",
       "    </tr>\n",
       "    <tr>\n",
       "      <th>date</th>\n",
       "      <th>region</th>\n",
       "      <th></th>\n",
       "      <th></th>\n",
       "      <th></th>\n",
       "    </tr>\n",
       "  </thead>\n",
       "  <tbody>\n",
       "    <tr>\n",
       "      <th>1996-06-10</th>\n",
       "      <th>7971</th>\n",
       "      <td>MDI</td>\n",
       "      <td>650.25</td>\n",
       "      <td>-263.82</td>\n",
       "    </tr>\n",
       "    <tr>\n",
       "      <th rowspan=\"2\" valign=\"top\">1996-06-27</th>\n",
       "      <th>7973</th>\n",
       "      <td>MDI</td>\n",
       "      <td>635.91</td>\n",
       "      <td>-2353.96</td>\n",
       "    </tr>\n",
       "    <tr>\n",
       "      <th>7976</th>\n",
       "      <td>MDI</td>\n",
       "      <td>423.33</td>\n",
       "      <td>-1444.87</td>\n",
       "    </tr>\n",
       "    <tr>\n",
       "      <th rowspan=\"2\" valign=\"top\">1996-06-28</th>\n",
       "      <th>7976</th>\n",
       "      <td>MDI</td>\n",
       "      <td>569.68</td>\n",
       "      <td>-1676.75</td>\n",
       "    </tr>\n",
       "    <tr>\n",
       "      <th>7973</th>\n",
       "      <td>MDI</td>\n",
       "      <td>448.23</td>\n",
       "      <td>-2075.18</td>\n",
       "    </tr>\n",
       "    <tr>\n",
       "      <th>1996-06-29</th>\n",
       "      <th>7976</th>\n",
       "      <td>MDI</td>\n",
       "      <td>720.84</td>\n",
       "      <td>-1770.11</td>\n",
       "    </tr>\n",
       "    <tr>\n",
       "      <th>1996-06-30</th>\n",
       "      <th>7976</th>\n",
       "      <td>MDI</td>\n",
       "      <td>698.44</td>\n",
       "      <td>-1235.68</td>\n",
       "    </tr>\n",
       "    <tr>\n",
       "      <th>1996-07-01</th>\n",
       "      <th>7976</th>\n",
       "      <td>MDI</td>\n",
       "      <td>560.22</td>\n",
       "      <td>-630.05</td>\n",
       "    </tr>\n",
       "    <tr>\n",
       "      <th>1996-07-03</th>\n",
       "      <th>7977</th>\n",
       "      <td>MDI</td>\n",
       "      <td>801.72</td>\n",
       "      <td>-702.63</td>\n",
       "    </tr>\n",
       "    <tr>\n",
       "      <th>1996-07-04</th>\n",
       "      <th>7977</th>\n",
       "      <td>MDI</td>\n",
       "      <td>277.21</td>\n",
       "      <td>-593.06</td>\n",
       "    </tr>\n",
       "  </tbody>\n",
       "</table>\n",
       "</div>"
      ],
      "text/plain": [
       "                  instr_type     max      min\n",
       "date       region                            \n",
       "1996-06-10 7971          MDI  650.25  -263.82\n",
       "1996-06-27 7973          MDI  635.91 -2353.96\n",
       "           7976          MDI  423.33 -1444.87\n",
       "1996-06-28 7976          MDI  569.68 -1676.75\n",
       "           7973          MDI  448.23 -2075.18\n",
       "1996-06-29 7976          MDI  720.84 -1770.11\n",
       "1996-06-30 7976          MDI  698.44 -1235.68\n",
       "1996-07-01 7976          MDI  560.22  -630.05\n",
       "1996-07-03 7977          MDI  801.72  -702.63\n",
       "1996-07-04 7977          MDI  277.21  -593.06"
      ]
     },
     "execution_count": 183,
     "metadata": {},
     "output_type": "execute_result"
    }
   ],
   "source": [
    "df.head(10)"
   ]
  },
  {
   "cell_type": "code",
   "execution_count": 184,
   "metadata": {},
   "outputs": [],
   "source": [
    "df = df.merge(sunspots, how = 'left', left_on=['date','region'], right_on = ['date','region'])"
   ]
  },
  {
   "cell_type": "code",
   "execution_count": 193,
   "metadata": {},
   "outputs": [],
   "source": [
    "df['letter_1'] = df['class'].apply(lambda x: x[0])\n",
    "df['letter_2'] = df['class'].apply(lambda x: x[1])\n",
    "df['letter_3'] = df['class'].apply(lambda x: x[2])"
   ]
  },
  {
   "cell_type": "code",
   "execution_count": 195,
   "metadata": {},
   "outputs": [
    {
     "data": {
      "text/html": [
       "<div>\n",
       "<style scoped>\n",
       "    .dataframe tbody tr th:only-of-type {\n",
       "        vertical-align: middle;\n",
       "    }\n",
       "\n",
       "    .dataframe tbody tr th {\n",
       "        vertical-align: top;\n",
       "    }\n",
       "\n",
       "    .dataframe thead th {\n",
       "        text-align: right;\n",
       "    }\n",
       "</style>\n",
       "<table border=\"1\" class=\"dataframe\">\n",
       "  <thead>\n",
       "    <tr style=\"text-align: right;\">\n",
       "      <th></th>\n",
       "      <th></th>\n",
       "      <th>instr_type</th>\n",
       "      <th>max</th>\n",
       "      <th>min</th>\n",
       "      <th>number_of_ss</th>\n",
       "      <th>size</th>\n",
       "      <th>class</th>\n",
       "      <th>location</th>\n",
       "      <th>magn_class</th>\n",
       "      <th>letter_1</th>\n",
       "      <th>letter_2</th>\n",
       "      <th>letter_3</th>\n",
       "    </tr>\n",
       "    <tr>\n",
       "      <th>date</th>\n",
       "      <th>region</th>\n",
       "      <th></th>\n",
       "      <th></th>\n",
       "      <th></th>\n",
       "      <th></th>\n",
       "      <th></th>\n",
       "      <th></th>\n",
       "      <th></th>\n",
       "      <th></th>\n",
       "      <th></th>\n",
       "      <th></th>\n",
       "      <th></th>\n",
       "    </tr>\n",
       "  </thead>\n",
       "  <tbody>\n",
       "    <tr>\n",
       "      <th>1996-06-10</th>\n",
       "      <th>7971</th>\n",
       "      <td>MDI</td>\n",
       "      <td>650.25</td>\n",
       "      <td>-263.82</td>\n",
       "      <td>2</td>\n",
       "      <td>10</td>\n",
       "      <td>BXO</td>\n",
       "      <td>S07W15</td>\n",
       "      <td>B</td>\n",
       "      <td>B</td>\n",
       "      <td>X</td>\n",
       "      <td>O</td>\n",
       "    </tr>\n",
       "    <tr>\n",
       "      <th rowspan=\"2\" valign=\"top\">1996-06-27</th>\n",
       "      <th>7973</th>\n",
       "      <td>MDI</td>\n",
       "      <td>635.91</td>\n",
       "      <td>-2353.96</td>\n",
       "      <td>1</td>\n",
       "      <td>70</td>\n",
       "      <td>HSX</td>\n",
       "      <td>N09W21</td>\n",
       "      <td>A</td>\n",
       "      <td>H</td>\n",
       "      <td>S</td>\n",
       "      <td>X</td>\n",
       "    </tr>\n",
       "    <tr>\n",
       "      <th>7976</th>\n",
       "      <td>MDI</td>\n",
       "      <td>423.33</td>\n",
       "      <td>-1444.87</td>\n",
       "      <td>4</td>\n",
       "      <td>10</td>\n",
       "      <td>AXX</td>\n",
       "      <td>N13E25</td>\n",
       "      <td>A</td>\n",
       "      <td>A</td>\n",
       "      <td>X</td>\n",
       "      <td>X</td>\n",
       "    </tr>\n",
       "    <tr>\n",
       "      <th rowspan=\"2\" valign=\"top\">1996-06-28</th>\n",
       "      <th>7976</th>\n",
       "      <td>MDI</td>\n",
       "      <td>569.68</td>\n",
       "      <td>-1676.75</td>\n",
       "      <td>4</td>\n",
       "      <td>20</td>\n",
       "      <td>HRX</td>\n",
       "      <td>N13E11</td>\n",
       "      <td>A</td>\n",
       "      <td>H</td>\n",
       "      <td>R</td>\n",
       "      <td>X</td>\n",
       "    </tr>\n",
       "    <tr>\n",
       "      <th>7973</th>\n",
       "      <td>MDI</td>\n",
       "      <td>448.23</td>\n",
       "      <td>-2075.18</td>\n",
       "      <td>1</td>\n",
       "      <td>70</td>\n",
       "      <td>HSX</td>\n",
       "      <td>N08W35</td>\n",
       "      <td>A</td>\n",
       "      <td>H</td>\n",
       "      <td>S</td>\n",
       "      <td>X</td>\n",
       "    </tr>\n",
       "  </tbody>\n",
       "</table>\n",
       "</div>"
      ],
      "text/plain": [
       "                  instr_type     max      min number_of_ss size class  \\\n",
       "date       region                                                       \n",
       "1996-06-10 7971          MDI  650.25  -263.82            2   10   BXO   \n",
       "1996-06-27 7973          MDI  635.91 -2353.96            1   70   HSX   \n",
       "           7976          MDI  423.33 -1444.87            4   10   AXX   \n",
       "1996-06-28 7976          MDI  569.68 -1676.75            4   20   HRX   \n",
       "           7973          MDI  448.23 -2075.18            1   70   HSX   \n",
       "\n",
       "                  location magn_class letter_1 letter_2 letter_3  \n",
       "date       region                                                 \n",
       "1996-06-10 7971     S07W15          B        B        X        O  \n",
       "1996-06-27 7973     N09W21          A        H        S        X  \n",
       "           7976     N13E25          A        A        X        X  \n",
       "1996-06-28 7976     N13E11          A        H        R        X  \n",
       "           7973     N08W35          A        H        S        X  "
      ]
     },
     "execution_count": 195,
     "metadata": {},
     "output_type": "execute_result"
    }
   ],
   "source": [
    "df.head()"
   ]
  },
  {
   "cell_type": "code",
   "execution_count": 209,
   "metadata": {},
   "outputs": [],
   "source": [
    "df.to_pickle(os.path.join(dataPath,'infoDf.pkl'))"
   ]
  },
  {
   "cell_type": "code",
   "execution_count": 187,
   "metadata": {},
   "outputs": [
    {
     "data": {
      "text/plain": [
       "MDI    12944\n",
       "HMI     6621\n",
       "Name: instr_type, dtype: int64"
      ]
     },
     "execution_count": 187,
     "metadata": {},
     "output_type": "execute_result"
    }
   ],
   "source": [
    "df.instr_type.value_counts()"
   ]
  },
  {
   "cell_type": "code",
   "execution_count": 227,
   "metadata": {},
   "outputs": [
    {
     "data": {
      "text/plain": [
       "(19565, 11)"
      ]
     },
     "execution_count": 227,
     "metadata": {},
     "output_type": "execute_result"
    }
   ],
   "source": [
    "df.shape"
   ]
  },
  {
   "cell_type": "code",
   "execution_count": 208,
   "metadata": {},
   "outputs": [
    {
     "name": "stdout",
     "output_type": "stream",
     "text": [
      "instr_type\n",
      "HMI   -3438.67867\n",
      "MDI   -3763.59000\n",
      "Name: min, dtype: float64\n",
      "instr_type\n",
      "HMI    3650.049413\n",
      "MDI    3977.350000\n",
      "Name: max, dtype: float64\n"
     ]
    }
   ],
   "source": [
    "print(df.groupby(by = 'instr_type')['min'].min())\n",
    "print(df.groupby(by = 'instr_type')['max'].max())"
   ]
  },
  {
   "cell_type": "code",
   "execution_count": 226,
   "metadata": {},
   "outputs": [
    {
     "data": {
      "text/plain": [
       "<matplotlib.axes._subplots.AxesSubplot at 0x132456ac8>"
      ]
     },
     "execution_count": 226,
     "metadata": {},
     "output_type": "execute_result"
    },
    {
     "data": {
      "image/png": "[encoded data removed]",
      "text/plain": [
       "<Figure size 864x288 with 3 Axes>"
      ]
     },
     "metadata": {},
     "output_type": "display_data"
    }
   ],
   "source": [
    "fig = plt.figure(figsize=(12,4))\n",
    "ax1 = fig.add_subplot(131)\n",
    "ax2 = fig.add_subplot(132)\n",
    "ax3 = fig.add_subplot(133)\n",
    "sns.countplot(df['letter_1'],hue = df['instr_type'],ax=ax1)\n",
    "sns.countplot(df['letter_2'],hue = df['instr_type'],ax=ax2)\n",
    "sns.countplot(df['letter_3'],hue = df['instr_type'],ax=ax3)"
   ]
  },
  {
   "cell_type": "code",
   "execution_count": 201,
   "metadata": {},
   "outputs": [
    {
     "data": {
      "text/plain": [
       "<matplotlib.axes._subplots.AxesSubplot at 0x12f199550>"
      ]
     },
     "execution_count": 201,
     "metadata": {},
     "output_type": "execute_result"
    },
    {
     "data": {
      "image/png": "[encoded data removed]",
      "text/plain": [
       "<Figure size 432x288 with 1 Axes>"
      ]
     },
     "metadata": {},
     "output_type": "display_data"
    }
   ],
   "source": [
    "sns.countplot(df['letter_2'],hue = df['instr_type'])"
   ]
  },
  {
   "cell_type": "code",
   "execution_count": 202,
   "metadata": {},
   "outputs": [
    {
     "data": {
      "text/plain": [
       "<matplotlib.axes._subplots.AxesSubplot at 0x12f54f198>"
      ]
     },
     "execution_count": 202,
     "metadata": {},
     "output_type": "execute_result"
    },
    {
     "data": {
      "image/png": "[encoded data removed]",
      "text/plain": [
       "<Figure size 432x288 with 1 Axes>"
      ]
     },
     "metadata": {},
     "output_type": "display_data"
    }
   ],
   "source": [
    "sns.countplot(df['letter_3'],hue = df['instr_type'])"
   ]
  },
  {
   "cell_type": "raw",
   "metadata": {},
   "source": [
    "missed_ind = missed_df.index\n",
    "for ind in missed_ind:\n",
    "    os.remove(os.path.join(path_to_write,constr_filename(ind[0],ind[1], missed_df.loc[ind]['instr_type'])))\n"
   ]
  },
  {
   "cell_type": "code",
   "execution_count": null,
   "metadata": {},
   "outputs": [],
   "source": [
    "NOAA = 11084\n",
    "sunspots.query('region =='+ str(NOAA))"
   ]
  },
  {
   "cell_type": "code",
   "execution_count": null,
   "metadata": {},
   "outputs": [],
   "source": [
    "#pd.concat([hmi_df, sunspots]).sort_values(by='date')"
   ]
  },
  {
   "cell_type": "code",
   "execution_count": null,
   "metadata": {},
   "outputs": [],
   "source": []
  }
 ],
 "metadata": {
  "kernelspec": {
   "display_name": "PyEnv 3.6",
   "language": "python",
   "name": "pyenv3.6"
  },
  "language_info": {
   "codemirror_mode": {
    "name": "ipython",
    "version": 3
   },
   "file_extension": ".py",
   "mimetype": "text/x-python",
   "name": "python",
   "nbconvert_exporter": "python",
   "pygments_lexer": "ipython3",
   "version": "3.6.6"
  }
 },
 "nbformat": 4,
 "nbformat_minor": 2
}
